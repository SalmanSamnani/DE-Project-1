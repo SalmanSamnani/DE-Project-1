{
 "cells": [
  {
   "cell_type": "code",
   "execution_count": 17,
   "metadata": {},
   "outputs": [],
   "source": [
    "import csv\n",
    "\n",
    "# Path to the CSV file\n",
    "csv_file = 'D:\\GIT\\DE-Project\\DE-Project-1\\PSL1\\Match1\\Innings_1.csv'"
   ]
  },
  {
   "cell_type": "code",
   "execution_count": 28,
   "metadata": {},
   "outputs": [],
   "source": [
    "# Open the CSV file with a different encoding\n",
    "with open(csv_file, 'r', newline='', encoding='latin-1') as file:\n",
    "    # Create a CSV reader object\n",
    "    csv_reader = csv.reader(file)\n",
    "    \n",
    "    # Read the header row\n",
    "    header = next(csv_reader)\n",
    "    \n",
    "    # Find the index of the 'Commentary' column\n",
    "    commentary_index = header.index('Commentary')\n",
    "    \n",
    "    # List to store rows with new column\n",
    "    rows_with_new_column = []\n",
    "    \n",
    "    # Iterate over each row in the CSV file\n",
    "    for row in csv_reader:\n",
    "        # Extract runs from the 'Commentary' column\n",
    "        commentary = row[commentary_index]\n",
    "        # runs = get_runs_from_commentary(commentary)\n",
    "        runs = commentary[:10]\n",
    "        \n",
    "        # Add runs as a new column to the row\n",
    "        row.append(runs)\n",
    "        \n",
    "        \n",
    "        # Append the row to the list of rows with new column\n",
    "        rows_with_new_column.append(row)\n",
    "\n",
    "# print(rows_with_new_column)"
   ]
  },
  {
   "cell_type": "code",
   "execution_count": null,
   "metadata": {},
   "outputs": [],
   "source": []
  },
  {
   "cell_type": "code",
   "execution_count": null,
   "metadata": {},
   "outputs": [],
   "source": []
  }
 ],
 "metadata": {
  "kernelspec": {
   "display_name": "base",
   "language": "python",
   "name": "python3"
  },
  "language_info": {
   "codemirror_mode": {
    "name": "ipython",
    "version": 3
   },
   "file_extension": ".py",
   "mimetype": "text/x-python",
   "name": "python",
   "nbconvert_exporter": "python",
   "pygments_lexer": "ipython3",
   "version": "3.8.16"
  }
 },
 "nbformat": 4,
 "nbformat_minor": 2
}
